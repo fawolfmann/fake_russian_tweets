{
    "cells": [
        {
            "cell_type": "markdown",
            "source": [
                "# Exploratory data analysis (EDA)\n",
                "This analysis contains 3 parts:\n",
                "- Tweet time: analysis when the tweets where created and when the users where created.\n",
                "- Small text: looking the most common words and ploting them. \n",
                "- Users names: a small analysis of the names of the users"
            ],
            "metadata": {}
        },
        {
            "cell_type": "markdown",
            "source": [
                "## Time analysis"
            ],
            "metadata": {}
        },
        {
            "cell_type": "markdown",
            "source": [
                "## Text analysis"
            ],
            "metadata": {}
        },
        {
            "cell_type": "markdown",
            "source": [
                "## Users names analysis"
            ],
            "metadata": {}
        },
        {
            "cell_type": "markdown",
            "source": [],
            "metadata": {}
        }
    ],
    "metadata": {
        "orig_nbformat": 4,
        "language_info": {
            "name": "python"
        }
    },
    "nbformat": 4,
    "nbformat_minor": 2
}