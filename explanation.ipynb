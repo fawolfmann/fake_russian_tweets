{
 "cells": [
  {
   "cell_type": "markdown",
   "source": [
    "# Explainability\n",
    "This notebook intents to explain the bert model behavior, for that reason it is used [SHAP package](https://shap.readthedocs.io/en/latest/example_notebooks/api_examples/plots/text.html#)\n",
    "\n",
    "\n",
    "Please copy the tweet below, DONT write it.!"
   ],
   "metadata": {}
  },
  {
   "cell_type": "code",
   "execution_count": 29,
   "source": [
    "import shap\n",
    "from transformers import TextClassificationPipeline\n",
    "from ipywidgets import widgets\n",
    "from bert_deploy.predict import load_model\n",
    "from ipywidgets import interact\n",
    "\n",
    "model = load_model(\"./config/config_sample_fake_tweets_predict.json\")\n",
    "\n",
    "\n",
    "pipe = TextClassificationPipeline(model=model.classifier, tokenizer=model.tokenizer ,return_all_scores=True)\n"
   ],
   "outputs": [
    {
     "output_type": "stream",
     "name": "stderr",
     "text": [
      "INFO:bert_deploy.predict:Starting loading model\n",
      "INFO:bert_deploy.configs:Reading config: ../config/config_sample_fake_tweets_predict.json\n",
      "INFO:bert_deploy.prediction.tweets_loader:FakeTweetsModel initialized\n"
     ]
    }
   ],
   "metadata": {}
  },
  {
   "cell_type": "code",
   "execution_count": 17,
   "source": [
    "def score_and_visualize(text: str):\n",
    "  prediction = pipe([text])\n",
    "  print(prediction[0])\n",
    "\n",
    "  explainer = shap.Explainer(pipe)\n",
    "  shap_values = explainer([text])\n",
    "\n",
    "  shap.plots.text(shap_values)"
   ],
   "outputs": [],
   "metadata": {}
  },
  {
   "cell_type": "code",
   "execution_count": 34,
   "source": [
    "interact(score_and_visualize, text=(widgets.Textarea(\n",
    "    value='Hello World',\n",
    "    description='String:',\n",
    "    continuous_update=False,\n",
    "    layout=widgets.Layout(height=\"auto\", width=\"auto\")\n",
    ")))"
   ],
   "outputs": [
    {
     "output_type": "display_data",
     "data": {
      "text/plain": [
       "interactive(children=(Textarea(value='Hello World', continuous_update=False, description='String:', layout=Lay…"
      ],
      "application/vnd.jupyter.widget-view+json": {
       "version_major": 2,
       "version_minor": 0,
       "model_id": "d6acee65969449898cf58871c7439bbf"
      }
     },
     "metadata": {}
    },
    {
     "output_type": "execute_result",
     "data": {
      "text/plain": [
       "<function __main__.score_and_visualize(text: str)>"
      ]
     },
     "metadata": {},
     "execution_count": 34
    }
   ],
   "metadata": {}
  }
 ],
 "metadata": {
  "orig_nbformat": 4,
  "language_info": {
   "name": "python",
   "version": "3.8.5",
   "mimetype": "text/x-python",
   "codemirror_mode": {
    "name": "ipython",
    "version": 3
   },
   "pygments_lexer": "ipython3",
   "nbconvert_exporter": "python",
   "file_extension": ".py"
  },
  "kernelspec": {
   "name": "python3",
   "display_name": "Python 3.8.5 64-bit ('.venv': poetry)"
  },
  "interpreter": {
   "hash": "2746f7305733397a5083f05c3b1861ae9c794b3e31f8491e8306b668bb1c4c73"
  }
 },
 "nbformat": 4,
 "nbformat_minor": 2
}