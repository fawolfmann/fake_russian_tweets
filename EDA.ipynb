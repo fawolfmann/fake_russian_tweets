{
    "cells": [
        {
            "cell_type": "markdown",
            "source": [
                "# Exploratory data analysis (EDA)\n",
                "This analysis contains 3 parts:\n",
                "- Tweet time: analysis when the tweets where created and when the users where created.\n",
                "- Small text: looking the most common words and ploting them. \n",
                "- Users names: a small analysis of the names of the users"
            ],
            "metadata": {}
        },
        {
            "cell_type": "markdown",
            "source": [
                "## Extract and preprocess the data"
            ],
            "metadata": {}
        },
        {
            "cell_type": "code",
            "execution_count": 1,
            "source": [
                "import pandas as pd"
            ],
            "outputs": [],
            "metadata": {}
        },
        {
            "cell_type": "code",
            "execution_count": null,
            "source": [
                "df_tweets = pd.read_csv(\"\")\n",
                "df_users = pd.read_csv(\"\")"
            ],
            "outputs": [],
            "metadata": {}
        },
        {
            "cell_type": "markdown",
            "source": [
                "## Basic exploration"
            ],
            "metadata": {}
        },
        {
            "cell_type": "code",
            "execution_count": 2,
            "source": [
                "## Look for nans, empty lists\n",
                "## unique values\n",
                "## Amount of tweets per user\n",
                "## Rate of tweets per user \n",
                "df_tweets"
            ],
            "outputs": [
                {
                    "output_type": "error",
                    "ename": "NameError",
                    "evalue": "name 'df_tweets' is not defined",
                    "traceback": [
                        "\u001b[0;31m---------------------------------------------------------------------------\u001b[0m",
                        "\u001b[0;31mNameError\u001b[0m                                 Traceback (most recent call last)",
                        "\u001b[0;32m<ipython-input-2-04f255500094>\u001b[0m in \u001b[0;36m<module>\u001b[0;34m\u001b[0m\n\u001b[1;32m      3\u001b[0m \u001b[0;31m## Amount of tweets per user\u001b[0m\u001b[0;34m\u001b[0m\u001b[0;34m\u001b[0m\u001b[0;34m\u001b[0m\u001b[0m\n\u001b[1;32m      4\u001b[0m \u001b[0;31m## Rate of tweets per user\u001b[0m\u001b[0;34m\u001b[0m\u001b[0;34m\u001b[0m\u001b[0;34m\u001b[0m\u001b[0m\n\u001b[0;32m----> 5\u001b[0;31m \u001b[0mdf_tweets\u001b[0m\u001b[0;34m\u001b[0m\u001b[0;34m\u001b[0m\u001b[0m\n\u001b[0m",
                        "\u001b[0;31mNameError\u001b[0m: name 'df_tweets' is not defined"
                    ]
                }
            ],
            "metadata": {}
        },
        {
            "cell_type": "markdown",
            "source": [
                "### Type of text\n",
                "See if there are non english words."
            ],
            "metadata": {}
        },
        {
            "cell_type": "markdown",
            "source": [
                "### Remove non english words and emojis"
            ],
            "metadata": {}
        },
        {
            "cell_type": "code",
            "execution_count": null,
            "source": [],
            "outputs": [],
            "metadata": {}
        },
        {
            "cell_type": "markdown",
            "source": [
                "## Time analysis\n",
                "When the tweets where create and when the users where created."
            ],
            "metadata": {}
        },
        {
            "cell_type": "markdown",
            "source": [
                "## Text analysis\n",
                "Wordcloud of the tweets"
            ],
            "metadata": {}
        },
        {
            "cell_type": "markdown",
            "source": [
                "## Users names analysis\n",
                "Types of users names"
            ],
            "metadata": {}
        },
        {
            "cell_type": "markdown",
            "source": [
                "## Conclusion"
            ],
            "metadata": {}
        },
        {
            "cell_type": "markdown",
            "source": [],
            "metadata": {}
        }
    ],
    "metadata": {
        "orig_nbformat": 4,
        "language_info": {
            "name": "python",
            "version": "3.8.5",
            "mimetype": "text/x-python",
            "codemirror_mode": {
                "name": "ipython",
                "version": 3
            },
            "pygments_lexer": "ipython3",
            "nbconvert_exporter": "python",
            "file_extension": ".py"
        },
        "kernelspec": {
            "name": "python3",
            "display_name": "Python 3.8.5 64-bit ('.venv': poetry)"
        },
        "interpreter": {
            "hash": "8726ff58357a9682645116bf4584b650de0cd00db6c33a0a6fca63b557e7e78b"
        }
    },
    "nbformat": 4,
    "nbformat_minor": 2
}